{
 "cells": [
  {
   "cell_type": "code",
   "execution_count": 1,
   "id": "5b416042",
   "metadata": {},
   "outputs": [],
   "source": [
    "from langchain_community.document_loaders import PyPDFLoader\n",
    "from langchain_community.document_loaders import PyPDFDirectoryLoader\n",
    "from langchain.text_splitter import RecursiveCharacterTextSplitter\n",
    "from langchain_community.vectorstores import FAISS\n",
    "\n",
    "from langchain_community.embeddings import HuggingFaceBgeEmbeddings\n",
    "from langchain.prompts import PromptTemplate\n",
    "\n",
    "from langchain.chains import RetrievalQA"
   ]
  },
  {
   "cell_type": "code",
   "execution_count": 2,
   "id": "c6395b2d",
   "metadata": {},
   "outputs": [
    {
     "data": {
      "text/plain": [
       "Document(metadata={'producer': 'Adobe PDF Library 17.0', 'creator': 'Adobe InDesign 18.2 (Windows)', 'creationdate': '2023-09-09T07:52:17-04:00', 'author': 'U.S. Census Bureau', 'keywords': 'acsbr-015', 'moddate': '2023-09-12T14:44:47+01:00', 'title': 'Health Insurance Coverage Status and Type by Geography: 2021 and 2022', 'trapped': '/false', 'source': 'us_census\\\\acsbr-015.pdf', 'total_pages': 18, 'page': 0, 'page_label': '1'}, page_content='Health Insurance Coverage Status and Type \\nby Geography: 2021 and 2022\\nAmerican Community Survey Briefs\\nACSBR-015\\nIssued September 2023\\nDouglas Conway and Breauna Branch\\nINTRODUCTION\\nDemographic shifts as well as economic and govern-\\nment policy changes can affect people’s access to \\nhealth coverage. For example, between 2021 and 2022, \\nthe labor market continued to improve, which may \\nhave affected private coverage in the United States \\nduring that time.1 Public policy changes included \\nthe renewal of the Public Health Emergency, which \\nallowed Medicaid enrollees to remain covered under \\nthe Continuous Enrollment Provision.2 The American \\nRescue Plan (ARP) enhanced Marketplace premium \\nsubsidies for those with incomes above 400 percent \\nof the poverty level as well as for unemployed people.3\\nIn addition to national policies, individual states and \\nthe District of Columbia can affect health insurance \\ncoverage by making Marketplace or Medicaid more')"
      ]
     },
     "execution_count": 2,
     "metadata": {},
     "output_type": "execute_result"
    }
   ],
   "source": [
    "## Read the pdfs from the folder\n",
    "loader=PyPDFDirectoryLoader(\"./us_census\")\n",
    "\n",
    "documents=loader.load()\n",
    "\n",
    "text_splitter=RecursiveCharacterTextSplitter(chunk_size=1000,chunk_overlap=200)\n",
    "\n",
    "final_documents=text_splitter.split_documents(documents)\n",
    "final_documents[0]"
   ]
  },
  {
   "cell_type": "code",
   "execution_count": 3,
   "id": "24a2a513",
   "metadata": {},
   "outputs": [
    {
     "data": {
      "text/plain": [
       "316"
      ]
     },
     "execution_count": 3,
     "metadata": {},
     "output_type": "execute_result"
    }
   ],
   "source": [
    "len(final_documents)"
   ]
  },
  {
   "cell_type": "code",
   "execution_count": 4,
   "id": "80cbe21c",
   "metadata": {},
   "outputs": [
    {
     "name": "stderr",
     "output_type": "stream",
     "text": [
      "C:\\Users\\ASUS\\AppData\\Local\\Temp\\ipykernel_9724\\1354750729.py:2: LangChainDeprecationWarning: The class `HuggingFaceBgeEmbeddings` was deprecated in LangChain 0.2.2 and will be removed in 1.0. An updated version of the class exists in the :class:`~langchain-huggingface package and should be used instead. To use it run `pip install -U :class:`~langchain-huggingface` and import as `from :class:`~langchain_huggingface import HuggingFaceEmbeddings``.\n",
      "  huggingface_embeddings=HuggingFaceBgeEmbeddings(\n",
      "d:\\Langchain\\.venv\\Lib\\site-packages\\tqdm\\auto.py:21: TqdmWarning: IProgress not found. Please update jupyter and ipywidgets. See https://ipywidgets.readthedocs.io/en/stable/user_install.html\n",
      "  from .autonotebook import tqdm as notebook_tqdm\n",
      "d:\\Langchain\\.venv\\Lib\\site-packages\\huggingface_hub\\file_download.py:144: UserWarning: `huggingface_hub` cache-system uses symlinks by default to efficiently store duplicated files but your machine does not support them in C:\\Users\\ASUS\\.cache\\huggingface\\hub\\models--BAAI--bge-small-en-v1.5. Caching files will still work but in a degraded version that might require more space on your disk. This warning can be disabled by setting the `HF_HUB_DISABLE_SYMLINKS_WARNING` environment variable. For more details, see https://huggingface.co/docs/huggingface_hub/how-to-cache#limitations.\n",
      "To support symlinks on Windows, you either need to activate Developer Mode or to run Python as an administrator. In order to activate developer mode, see this article: https://docs.microsoft.com/en-us/windows/apps/get-started/enable-your-device-for-development\n",
      "  warnings.warn(message)\n"
     ]
    }
   ],
   "source": [
    "## Embedding using HuggingFace\n",
    "huggingface_embeddings=HuggingFaceBgeEmbeddings(\n",
    "    model_name=\"BAAI/bge-small-en-v1.5\",  #sentence-transformers/all-MiniLM-L6-v2\n",
    "    model_kwargs={'device':'cpu'},\n",
    "    encode_kwargs={'normalize_embeddings':True})"
   ]
  },
  {
   "cell_type": "code",
   "execution_count": 6,
   "id": "96eb0926",
   "metadata": {},
   "outputs": [
    {
     "name": "stdout",
     "output_type": "stream",
     "text": [
      "[-0.07903476 -0.01134112 -0.02312096  0.02844463  0.05053349  0.05317831\n",
      " -0.01907791  0.03456018 -0.10211374 -0.02915706  0.08524264  0.05650729\n",
      " -0.02545439 -0.03308497 -0.0063574   0.0409086  -0.00628109  0.00356738\n",
      " -0.03854127  0.03667687 -0.04289805  0.0342525  -0.03116898 -0.03793728\n",
      "  0.01728392  0.01214924  0.00653115  0.01463563 -0.05529061 -0.15320709\n",
      "  0.00730851  0.03202942 -0.04701126 -0.01595972  0.01874447  0.02642936\n",
      " -0.02306377  0.08438031  0.04182487  0.05278173 -0.03057599  0.0156426\n",
      " -0.01689077  0.00529403 -0.02417437  0.00412997 -0.01889941 -0.00150623\n",
      " -0.00836934 -0.03390066  0.03515954 -0.00553138  0.04910939  0.05971854\n",
      "  0.05615965 -0.05105156  0.01475138 -0.01849957 -0.03284639  0.03576624\n",
      "  0.04947705 -0.0093888  -0.26202118  0.09750338  0.01715687  0.04781389\n",
      " -0.00556319 -0.00298312 -0.02207354 -0.04463664 -0.05760487  0.04815877\n",
      " -0.0552221   0.01635341  0.03299244  0.02147081  0.01296211  0.01462306\n",
      "  0.02174956 -0.00202995  0.02099543  0.03353846 -0.00345106 -0.04823529\n",
      "  0.05149957 -0.08948117  0.04491425 -0.03423377  0.02495743 -0.03332327\n",
      " -0.04124893  0.01226973  0.00551141  0.02813654  0.00750812  0.03364139\n",
      " -0.00718589 -0.00677304 -0.02376004  0.3435055  -0.02040548  0.0096785\n",
      " -0.00936504  0.01524743 -0.00692599 -0.05803746 -0.00443028  0.01115702\n",
      "  0.01746204  0.01258486  0.02158613 -0.02646194  0.01026769  0.04782215\n",
      " -0.03718104 -0.01986201  0.04008081  0.01574842  0.09363516 -0.0263587\n",
      " -0.01393858  0.03410938 -0.01630286 -0.04708787  0.02137169  0.06708882\n",
      "  0.05438901  0.1505418   0.03444387 -0.04218602  0.10422418 -0.04002275\n",
      " -0.00191299  0.00459116 -0.00292593  0.00371359 -0.02687681  0.03972118\n",
      " -0.00739628  0.05129857  0.0069869  -0.00043553 -0.00752809 -0.13413773\n",
      " -0.03140996  0.17964661 -0.02152573  0.0453423   0.02027218 -0.01826414\n",
      " -0.04439815  0.04787031 -0.03801561  0.04057756 -0.03817709  0.01659364\n",
      " -0.00368175  0.02469141 -0.02634715 -0.06727426  0.05705412 -0.03698838\n",
      " -0.05754101  0.01774049  0.04163102 -0.02699813 -0.01342313 -0.06434496\n",
      "  0.02320639  0.00476098  0.0134585   0.05142658  0.01828839 -0.02267212\n",
      "  0.08680937  0.02288995 -0.02278561 -0.00261812 -0.00936059 -0.05964359\n",
      "  0.00370077 -0.02772141 -0.05116593 -0.04951673 -0.01691764 -0.04342573\n",
      " -0.0655147   0.05782724  0.04989298 -0.01559617 -0.00385902  0.00827752\n",
      " -0.06377073  0.0196986  -0.01933414 -0.01095787 -0.05990799 -0.02187355\n",
      "  0.03869358 -0.02963531 -0.03095981  0.02629451  0.00857692 -0.00225387\n",
      " -0.00917326  0.02006876  0.02308843 -0.06949822  0.03825641 -0.01321396\n",
      "  0.00288255  0.04065884  0.03197157  0.00364802  0.03610991  0.01653046\n",
      "  0.01282873 -0.02190451  0.02050885  0.03220991  0.03351386  0.06819049\n",
      "  0.09490161 -0.27463824 -0.00499028  0.00181549  0.00687721 -0.06947187\n",
      " -0.05266644 -0.04547606  0.02707844  0.0040348   0.08909719  0.06208608\n",
      " -0.00817397 -0.02176253  0.10530706  0.02105065 -0.08313881  0.02648297\n",
      " -0.02122221 -0.01542383 -0.00282387  0.00493171  0.0048772  -0.06012278\n",
      " -0.02174248  0.08150735 -0.01746736  0.06210529 -0.05241906 -0.07425196\n",
      "  0.00045819 -0.05536215  0.05762165 -0.00776095 -0.11965966  0.06155295\n",
      "  0.01773319 -0.07490143  0.0043434  -0.0637446  -0.03096172 -0.02682647\n",
      "  0.05158744 -0.06356605  0.02999002 -0.01865463 -0.05194336  0.04636516\n",
      "  0.07127583 -0.08020444  0.01025254  0.00649385 -0.03402685 -0.03371223\n",
      " -0.01476087  0.02565081 -0.06251815 -0.03164586  0.03269231 -0.01906621\n",
      " -0.00269565  0.023938    0.00502712  0.04807231 -0.00441303 -0.00810788\n",
      " -0.04506416  0.01010008 -0.03085285 -0.07091315  0.00998588  0.00276088\n",
      "  0.04710479 -0.02302796 -0.02459352  0.01797344 -0.02112835  0.04660874\n",
      " -0.0010421  -0.00374576 -0.0495018   0.04251796 -0.05733853  0.02055243\n",
      "  0.04219677 -0.01167061  0.0124185   0.01056789  0.00663802 -0.01598001\n",
      "  0.016328   -0.02056751 -0.01553833 -0.01156684 -0.01864405  0.00332143\n",
      "  0.00658681 -0.21910883  0.04714744  0.02075717 -0.02441517 -0.00868847\n",
      " -0.0163412  -0.02499119  0.00766706 -0.0108309  -0.02472525  0.05254847\n",
      "  0.08288422  0.11848134 -0.01936329 -0.00433767  0.00458104  0.06947736\n",
      "  0.00124527  0.023687   -0.03457186  0.06163957 -0.06045356  0.14640085\n",
      " -0.03099669  0.01726845 -0.06827349 -0.01641338  0.03765273 -0.0338531\n",
      "  0.01721651  0.02592442 -0.00034783  0.02241221 -0.01919533  0.05005874\n",
      "  0.0083414   0.00977344  0.0559279   0.00274986  0.0259271  -0.0499501\n",
      " -0.02017872  0.02317913  0.01068106  0.06462809 -0.02950338 -0.045299\n",
      " -0.06358042 -0.01058143  0.06793744  0.00993987 -0.02914158  0.0044198\n",
      "  0.01224198 -0.05699344 -0.01181841 -0.061265    0.03326268  0.00284464\n",
      " -0.01248834  0.02214627  0.04263508 -0.07597519  0.01234047  0.06002008]\n",
      "(384,)\n"
     ]
    }
   ],
   "source": [
    "import  numpy as np\n",
    "print(np.array(huggingface_embeddings.embed_query(final_documents[0].page_content)))\n",
    "print(np.array(huggingface_embeddings.embed_query(final_documents[0].page_content)).shape)"
   ]
  },
  {
   "cell_type": "code",
   "execution_count": 7,
   "id": "96517837",
   "metadata": {},
   "outputs": [],
   "source": [
    "## VectorStore Creation\n",
    "vectorstore=FAISS.from_documents(final_documents[:120],huggingface_embeddings)"
   ]
  },
  {
   "cell_type": "code",
   "execution_count": 8,
   "id": "bd9bba6b",
   "metadata": {},
   "outputs": [
    {
     "name": "stdout",
     "output_type": "stream",
     "text": [
      "2 U.S. Census Bureau\n",
      "WHAT IS HEALTH INSURANCE COVERAGE?\n",
      "This brief presents state-level estimates of health insurance coverage \n",
      "using data from the American Community Survey (ACS). The  \n",
      "U.S. Census Bureau conducts the ACS throughout the year; the \n",
      "survey asks respondents to report their coverage at the time of \n",
      "interview. The resulting measure of health insurance coverage, \n",
      "therefore, reflects an annual average of current comprehensive \n",
      "health insurance coverage status.* This uninsured rate measures a \n",
      "different concept than the measure based on the Current Population \n",
      "Survey Annual Social and Economic Supplement (CPS ASEC). \n",
      "For reporting purposes, the ACS broadly classifies health insurance \n",
      "coverage as private insurance or public insurance. The ACS defines \n",
      "private health insurance as a plan provided through an employer \n",
      "or a union, coverage purchased directly by an individual from an \n",
      "insurance company or through an exchange (such as healthcare.\n"
     ]
    }
   ],
   "source": [
    "## Query using Similarity Search\n",
    "query=\"WHAT IS HEALTH INSURANCE COVERAGE?\"\n",
    "relevant_docments=vectorstore.similarity_search(query)\n",
    "\n",
    "print(relevant_docments[0].page_content)"
   ]
  },
  {
   "cell_type": "code",
   "execution_count": 9,
   "id": "6ee9f9b6",
   "metadata": {},
   "outputs": [
    {
     "name": "stdout",
     "output_type": "stream",
     "text": [
      "tags=['FAISS', 'HuggingFaceBgeEmbeddings'] vectorstore=<langchain_community.vectorstores.faiss.FAISS object at 0x000002C0190EF8F0> search_kwargs={'k': 3}\n"
     ]
    }
   ],
   "source": [
    "retriever=vectorstore.as_retriever(search_type=\"similarity\",search_kwargs={\"k\":3})\n",
    "print(retriever)"
   ]
  },
  {
   "cell_type": "code",
   "execution_count": 12,
   "id": "4b884ed9",
   "metadata": {},
   "outputs": [],
   "source": [
    "import os\n",
    "os.environ['HUGGINGFACEHUB_API_TOKEN']=os.getenv('HUGGINGFACEHUB_API_TOKEN')"
   ]
  },
  {
   "cell_type": "code",
   "execution_count": 23,
   "id": "c235beeb",
   "metadata": {},
   "outputs": [
    {
     "name": "stderr",
     "output_type": "stream",
     "text": [
      "d:\\Langchain\\.venv\\Lib\\site-packages\\huggingface_hub\\utils\\_deprecation.py:131: FutureWarning: 'post' (from 'huggingface_hub.inference._client') is deprecated and will be removed from version '0.31.0'. Making direct POST requests to the inference server is not supported anymore. Please use task methods instead (e.g. `InferenceClient.chat_completion`). If your use case is not supported, please open an issue in https://github.com/huggingface/huggingface_hub.\n",
      "  warnings.warn(warning_message, FutureWarning)\n"
     ]
    },
    {
     "data": {
      "text/plain": [
       "\"What is the health insurance coverage?\\n\\nHealth insurance coverage is a type of insurance that helps pay for medical expenses, such as doctor visits, hospital stays, and prescription drugs. It can also cover preventive care, such as vaccinations and screenings.\\n\\nThere are different types of health insurance coverage, including:\\n\\n1. Employer-sponsored health insurance: This is health insurance that is offered by an employer as a benefit to employees.\\n2. Individual health insurance: This is health insurance that is purchased by an individual or family on their own, rather than through an employer.\\n3. Medicare: This is a federal health insurance program for people aged 65 and older, as well as certain younger people with disabilities.\\n4. Medicaid: This is a state and federal health insurance program for low-income individuals and families.\\n5. CHIP (Children's Health Insurance Program): This is a state and federal health insurance program for children from low-income families who do not qualify for Medicaid.\\n\\nHealth insurance coverage can help protect you from the financial burden of unexpected medical expenses. It can also help you access necessary medical care and preventive services, which can help improve your overall health and well-being.\""
      ]
     },
     "execution_count": 23,
     "metadata": {},
     "output_type": "execute_result"
    }
   ],
   "source": [
    "from langchain_community.llms import HuggingFaceHub\n",
    "\n",
    "hf=HuggingFaceHub(\n",
    "    repo_id=\"mistralai/Mistral-7B-Instruct-v0.3\",\n",
    "    model_kwargs={\"temperature\":0.1,\"max_length\":500}\n",
    "\n",
    ")\n",
    "query=\"What is the health insurance coverage?\"\n",
    "hf.invoke(query)"
   ]
  },
  {
   "cell_type": "code",
   "execution_count": null,
   "id": "2636e4a3",
   "metadata": {},
   "outputs": [],
   "source": [
    "#Hugging Face models can be run locally through the HuggingFacePipeline class.\n",
    "from langchain_community.llms.huggingface_pipeline import HuggingFacePipeline\n",
    "\n",
    "hf = HuggingFacePipeline.from_model_id(\n",
    "    model_id=\"mistralai/Mistral-7B-v0.1\",\n",
    "    task=\"text-generation\",\n",
    "    pipeline_kwargs={\"temperature\": 0, \"max_new_tokens\": 300}\n",
    ")\n",
    "\n",
    "llm = hf \n",
    "llm.invoke(query)"
   ]
  },
  {
   "cell_type": "code",
   "execution_count": null,
   "id": "5bcbfb0a",
   "metadata": {},
   "outputs": [],
   "source": [
    "prompt_template=\"\"\"\n",
    "Use the following piece of context to answer the question asked.\n",
    "Please try to provide the answer only based on the context\n",
    "\n",
    "{context}\n",
    "Question:{question}\n",
    "\n",
    "Helpful Answers:\n",
    " \"\"\""
   ]
  },
  {
   "cell_type": "code",
   "execution_count": null,
   "id": "991d1a18",
   "metadata": {},
   "outputs": [],
   "source": [
    "prompt=PromptTemplate(template=prompt_template,input_variables=[\"context\",\"question\"])"
   ]
  },
  {
   "cell_type": "code",
   "execution_count": null,
   "id": "0b84edf3",
   "metadata": {},
   "outputs": [],
   "source": [
    "retrievalQA=RetrievalQA.from_chain_type(\n",
    "    llm=hf,\n",
    "    chain_type=\"stuff\",\n",
    "    retriever=retriever,\n",
    "    return_source_documents=True,\n",
    "    chain_type_kwargs={\"prompt\":prompt}\n",
    ")"
   ]
  },
  {
   "cell_type": "code",
   "execution_count": null,
   "id": "21b99587",
   "metadata": {},
   "outputs": [],
   "source": [
    "query=\"\"\"DIFFERENCES IN THE\n",
    "UNINSURED RATE BY STATE\n",
    "IN 2022\"\"\""
   ]
  },
  {
   "cell_type": "code",
   "execution_count": null,
   "id": "14b702e0",
   "metadata": {},
   "outputs": [],
   "source": [
    "# Call the QA chain with our query.\n",
    "result = retrievalQA.invoke({\"query\": query})\n",
    "print(result['result'])"
   ]
  }
 ],
 "metadata": {
  "kernelspec": {
   "display_name": ".venv",
   "language": "python",
   "name": "python3"
  },
  "language_info": {
   "codemirror_mode": {
    "name": "ipython",
    "version": 3
   },
   "file_extension": ".py",
   "mimetype": "text/x-python",
   "name": "python",
   "nbconvert_exporter": "python",
   "pygments_lexer": "ipython3",
   "version": "3.12.10"
  }
 },
 "nbformat": 4,
 "nbformat_minor": 5
}
